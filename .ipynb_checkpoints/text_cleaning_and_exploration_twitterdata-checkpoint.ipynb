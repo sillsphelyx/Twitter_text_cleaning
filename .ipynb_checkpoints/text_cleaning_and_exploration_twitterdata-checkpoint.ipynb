{
 "cells": [
  {
   "cell_type": "code",
   "execution_count": 0,
   "metadata": {
    "colab": {},
    "colab_type": "code",
    "collapsed": true,
    "id": "IQ8Sob-ytyaL"
   },
   "outputs": [],
   "source": [
    "# importing the necessary dependencies\n",
    "from collections import Counter\n",
    "from matplotlib import pyplot as plt\n",
    "from bs4 import BeautifulSoup\n",
    "from google.colab import drive\n",
    "from nltk.corpus import wordnet, stopwords\n",
    "from spacy.lang.en.stop_words import STOP_WORDS\n",
    "from nltk.tokenize import WordPunctTokenizer\n",
    "import re\n",
    "#import seaborn as sns\n",
    "import pandas as pd\n",
    "import nltk\n",
    "import warnings\n",
    "nltk.download('all')\n",
    "warnings.filterwarnings(\"ignore\")\n",
    "%matplotlib inline\n"
   ]
  },
  {
   "cell_type": "code",
   "execution_count": 2,
   "metadata": {
    "colab": {
     "base_uri": "https://localhost:8080/",
     "height": 126
    },
    "colab_type": "code",
    "collapsed": false,
    "id": "ArB4Fwrp8zR0",
    "outputId": "e808e4cb-c850-45a3-922c-c3934e847df4"
   },
   "outputs": [
    {
     "name": "stdout",
     "output_type": "stream",
     "text": [
      "Go to this URL in a browser: https://accounts.google.com/o/oauth2/auth?client_id=947318989803-6bn6qk8qdgf4n4g3pfee6491hc0brc4i.apps.googleusercontent.com&redirect_uri=urn%3aietf%3awg%3aoauth%3a2.0%3aoob&response_type=code&scope=email%20https%3a%2f%2fwww.googleapis.com%2fauth%2fdocs.test%20https%3a%2f%2fwww.googleapis.com%2fauth%2fdrive%20https%3a%2f%2fwww.googleapis.com%2fauth%2fdrive.photos.readonly%20https%3a%2f%2fwww.googleapis.com%2fauth%2fpeopleapi.readonly\n",
      "\n",
      "Enter your authorization code:\n",
      "··········\n",
      "Mounted at /content/drive\n"
     ]
    }
   ],
   "source": [
    "# Mounting google drive. If working in colab\n",
    "drive.mount('/content/drive')"
   ]
  },
  {
   "cell_type": "code",
   "execution_count": 0,
   "metadata": {
    "colab": {},
    "colab_type": "code",
    "collapsed": true,
    "id": "uVdpbwkzxHVw"
   },
   "outputs": [],
   "source": [
    "#Importing the raw twitter json file\n",
    "data = pd.read_json('/content/drive/My Drive/Twitter_data/all_tweets_all_langs_CORONAVIRUS_29_1_2020_1.json', lines = True)"
   ]
  },
  {
   "cell_type": "code",
   "execution_count": 0,
   "metadata": {
    "colab": {},
    "colab_type": "code",
    "collapsed": true,
    "id": "EQsOZKG_ScX8"
   },
   "outputs": [],
   "source": [
    "# Selection the useful columns ie, user_id and the corresponding tweet text\n",
    "df = data[['id','text']]"
   ]
  },
  {
   "cell_type": "code",
   "execution_count": 0,
   "metadata": {
    "colab": {},
    "colab_type": "code",
    "collapsed": true,
    "id": "lRoA_4w6VvPA"
   },
   "outputs": [],
   "source": [
    "#Dropping of the missing value rows\n",
    "df = df.dropna()"
   ]
  },
  {
   "cell_type": "code",
   "execution_count": 0,
   "metadata": {
    "colab": {},
    "colab_type": "code",
    "collapsed": true,
    "id": "3ANGCi6UV9ez"
   },
   "outputs": [],
   "source": [
    "# coverting user id from the standard form representation to normal integer representation\n",
    "df['id'] = df['id'].astype(int)"
   ]
  },
  {
   "cell_type": "code",
   "execution_count": 0,
   "metadata": {
    "colab": {},
    "colab_type": "code",
    "collapsed": true,
    "id": "-XKsiY6JXQNM"
   },
   "outputs": [],
   "source": [
    "df.head()"
   ]
  },
  {
   "cell_type": "markdown",
   "metadata": {
    "colab_type": "text",
    "id": "9rUfx8At9tit"
   },
   "source": [
    "**Data cleaning**:\n",
    "\n",
    "At this point we will be intereseted in removing all the unuseful characters such as \"@,#\" and hyper links \"https....\". This will be achieved by the subsequentely defined functions."
   ]
  },
  {
   "cell_type": "code",
   "execution_count": 0,
   "metadata": {
    "colab": {},
    "colab_type": "code",
    "collapsed": true,
    "id": "3fYJXQvbXVa4"
   },
   "outputs": [],
   "source": [
    "# its important here to note the order of the sequence of the subfunctions that are being called.\n",
    "# this is so because some unwanted text maybe returned if the order is swaped, for example if pat1 is done later in the function \n",
    "# we are likely to return names attached to @ as text when we don't necessarily need it.\n",
    "tok = WordPunctTokenizer()\n",
    "pat1 = r'@[A-Za-z0-9]+'       # Removing @text situations\n",
    "pat2 = r'https?://[A-Za-z0-9./]+'  # Removing hyperlinks\n",
    "combined_pat = r'|'.join((pat1, pat2))  \n",
    "\n",
    "def tweet_cleaner(text):\n",
    "    soup = BeautifulSoup(text, 'lxml') # converting possibly unconverted html to text\n",
    "    souped = soup.get_text()\n",
    "    stripped = re.sub(combined_pat, '', souped)\n",
    "    letters_only = re.sub(\"[^a-zA-Z]\", \" \", stripped) # Getting read of non text characters\n",
    "    lower_case = letters_only.lower()\n",
    "    # During the letters_only process two lines above, it has created unnecessay white spaces,\n",
    "    # I will tokenize and join together to remove unneccessary white spaces\n",
    "    words = tok.tokenize(lower_case)\n",
    "    return (\" \".join(words)).strip()\n",
    "    "
   ]
  },
  {
   "cell_type": "code",
   "execution_count": 0,
   "metadata": {
    "colab": {},
    "colab_type": "code",
    "collapsed": true,
    "id": "Y2aUiOj2cedU"
   },
   "outputs": [],
   "source": [
    "# Looping over every tweet in the data set and applying the tweet_cleaner function it.\n",
    "clean_tweet_texts = []\n",
    "for tweet in df.text:\n",
    "  clean_tweet_texts.append(tweet_cleaner(tweet))\n"
   ]
  },
  {
   "cell_type": "code",
   "execution_count": 0,
   "metadata": {
    "colab": {},
    "colab_type": "code",
    "collapsed": true,
    "id": "UA_Qka0Fo4S1"
   },
   "outputs": [],
   "source": [
    "#creating a new DataFrame for the filtered text\n",
    "clean_df = pd.DataFrame(df['id'],columns=['id'])\n",
    "clean_df['text'] = clean_tweet_texts"
   ]
  },
  {
   "cell_type": "code",
   "execution_count": 0,
   "metadata": {
    "colab": {},
    "colab_type": "code",
    "collapsed": true,
    "id": "hXkdlzEph_GL"
   },
   "outputs": [],
   "source": [
    "# Removing non-english text\n",
    "#  This function takes in as input a sentence and returns only english words \n",
    "def filter_for_english(sent):\n",
    "  return (\" \".join(w for w in nltk.wordpunct_tokenize(sent) \\\n",
    "             if len(wordnet.synsets(w)) > 3 or w == 'coronavirus'))"
   ]
  },
  {
   "cell_type": "code",
   "execution_count": 0,
   "metadata": {
    "colab": {},
    "colab_type": "code",
    "collapsed": true,
    "id": "B1N5ekzVWd7_"
   },
   "outputs": [],
   "source": [
    "#looping over all tweets to return contained english words\n",
    "checked_for_english = [filter_for_english(sent) for sent in clean_df.text]"
   ]
  },
  {
   "cell_type": "code",
   "execution_count": 0,
   "metadata": {
    "colab": {},
    "colab_type": "code",
    "collapsed": true,
    "id": "BF-JKTF4wv5R"
   },
   "outputs": [],
   "source": [
    "# adding a column with tweets that are in English\n",
    "clean_df['English_text'] = checked_for_english"
   ]
  },
  {
   "cell_type": "code",
   "execution_count": 0,
   "metadata": {
    "colab": {},
    "colab_type": "code",
    "collapsed": true,
    "id": "VmLV6y2rlNMG"
   },
   "outputs": [],
   "source": [
    "# adding count columns for number of words per tweet for both clean_text and English only text \n",
    "clean_df['Clean_text_len'] = [len(t.split()) for t in clean_df.text]\n",
    "clean_df['English_word_count'] = [len(t.split()) for t in clean_df.English_text] # Useful for filtering dataframe on english text"
   ]
  },
  {
   "cell_type": "code",
   "execution_count": 0,
   "metadata": {
    "colab": {},
    "colab_type": "code",
    "collapsed": true,
    "id": "QZ1ucxjLmXr2"
   },
   "outputs": [],
   "source": [
    "clean_df.head()"
   ]
  },
  {
   "cell_type": "code",
   "execution_count": 0,
   "metadata": {
    "colab": {},
    "colab_type": "code",
    "collapsed": true,
    "id": "gscCJX9xm5jy"
   },
   "outputs": [],
   "source": [
    "#Filter dataframe by choosing rows that have atleast one english word\n",
    "english_df = clean_df[clean_df['English_word_count'] > 0][['id', 'English_text']]"
   ]
  },
  {
   "cell_type": "code",
   "execution_count": 0,
   "metadata": {
    "colab": {},
    "colab_type": "code",
    "collapsed": true,
    "id": "QXxS9zb2Xj1k"
   },
   "outputs": [],
   "source": [
    "english_df.head()"
   ]
  },
  {
   "cell_type": "code",
   "execution_count": 0,
   "metadata": {
    "colab": {},
    "colab_type": "code",
    "collapsed": true,
    "id": "r75tFa4JatMe"
   },
   "outputs": [],
   "source": [
    "# Saving the selected rows of english tweets to a csv file for further analysis\n",
    "#english_df.to_csv('Cleaned_English_tweets.csv', index=False)"
   ]
  },
  {
   "cell_type": "code",
   "execution_count": 0,
   "metadata": {
    "colab": {},
    "colab_type": "code",
    "collapsed": true,
    "id": "_vOYJU7Nb2oB"
   },
   "outputs": [],
   "source": [
    "english_df['Word_count'] = [len(t.split()) for t in english_df.English_text]"
   ]
  },
  {
   "cell_type": "markdown",
   "metadata": {
    "colab_type": "text",
    "id": "0Ip5pYb2uBMz"
   },
   "source": [
    "# Exploring the english text dataframe\n",
    "In this section we get a feel for our tweets data by looking at the distribution of the number of words per tweet for the tweets in English"
   ]
  },
  {
   "cell_type": "markdown",
   "metadata": {
    "colab_type": "text",
    "id": "5omJfFWmTCd8"
   },
   "source": [
    "## Word count distributions"
   ]
  },
  {
   "cell_type": "code",
   "execution_count": 88,
   "metadata": {
    "colab": {
     "base_uri": "https://localhost:8080/",
     "height": 265
    },
    "colab_type": "code",
    "collapsed": false,
    "id": "mU8ka-NsJNTe",
    "outputId": "981df2ec-4442-46d0-c137-bec13638eb1f"
   },
   "outputs": [
    {
     "data": {
      "image/png": "[encoded data removed]",
      "text/plain": [
       "<Figure size 432x288 with 1 Axes>"
      ]
     },
     "metadata": {
      "tags": []
     },
     "output_type": "display_data"
    }
   ],
   "source": [
    "# Distribution of word length in the tweets\n",
    "# Most tweets seem to have been short (<10) words\n",
    "plt.hist(english_df.Word_count, bins = 15)\n",
    "plt.show()"
   ]
  },
  {
   "cell_type": "code",
   "execution_count": 0,
   "metadata": {
    "colab": {},
    "colab_type": "code",
    "collapsed": true,
    "id": "2gqneVhq5FDH"
   },
   "outputs": [],
   "source": [
    "## Inspecting the most common words used in all the observed english tweets"
   ]
  },
  {
   "cell_type": "code",
   "execution_count": 0,
   "metadata": {
    "colab": {},
    "colab_type": "code",
    "collapsed": true,
    "id": "Yk6PFWljZ2ym"
   },
   "outputs": [],
   "source": [
    "# Breaking into individual words every tweet\n",
    "def my_tokenizer(text):\n",
    "  return text.split() if text != None else []"
   ]
  },
  {
   "cell_type": "code",
   "execution_count": 0,
   "metadata": {
    "colab": {},
    "colab_type": "code",
    "collapsed": true,
    "id": "EDORVjHnY6Rw"
   },
   "outputs": [],
   "source": [
    "# Breaking all english tweets into individual words and returning a list of these words\n",
    "tokens = english_df.English_text.map(my_tokenizer).sum()"
   ]
  },
  {
   "cell_type": "code",
   "execution_count": 0,
   "metadata": {
    "colab": {},
    "colab_type": "code",
    "collapsed": true,
    "id": "xFgsT3vXZXNi"
   },
   "outputs": [],
   "source": [
    "# most common words in all tweets (stop words included)\n",
    "counter_wsw = Counter(tokens)\n",
    "counter_wsw.most_common(20)"
   ]
  },
  {
   "cell_type": "code",
   "execution_count": 0,
   "metadata": {
    "colab": {},
    "colab_type": "code",
    "collapsed": true,
    "id": "OvVCaBShiCmc"
   },
   "outputs": [],
   "source": [
    "# creating a data frame for the most common words with stop words in the tweets for plotting\n",
    "# >2 to exclude single and doulble lettered words that aren't included among stop words \n",
    "word_freq_wsw = pd.DataFrame.from_records([x for x in counter_wsw.most_common(30) if len(x[0])> 2], columns = ['tokens', 'count'])"
   ]
  },
  {
   "cell_type": "code",
   "execution_count": 103,
   "metadata": {
    "colab": {
     "base_uri": "https://localhost:8080/",
     "height": 346
    },
    "colab_type": "code",
    "collapsed": false,
    "id": "yeuA_4bXioxn",
    "outputId": "21dee4a1-f7dc-46e0-ed29-42c733ffea9e"
   },
   "outputs": [
    {
     "data": {
      "text/plain": [
       "<matplotlib.axes._subplots.AxesSubplot at 0x7f3ceaca7be0>"
      ]
     },
     "execution_count": 103,
     "metadata": {
      "tags": []
     },
     "output_type": "execute_result"
    },
    {
     "data": {
      "image/png": "[encoded data removed]",
      "text/plain": [
       "<Figure size 432x288 with 1 Axes>"
      ]
     },
     "metadata": {
      "tags": []
     },
     "output_type": "display_data"
    }
   ],
   "source": [
    "# plotting word frequencies (stop words included)\n",
    "word_freq_wsw.plot(kind = 'bar', x = 'tokens')"
   ]
  },
  {
   "cell_type": "code",
   "execution_count": 0,
   "metadata": {
    "colab": {},
    "colab_type": "code",
    "collapsed": true,
    "id": "WB7j3GPmf8OW"
   },
   "outputs": [],
   "source": [
    "# removal of stop words and rechecking the most frequent words\n",
    "def remove_stopwords(tokens):\n",
    "  return [t for t in tokens if t not in STOP_WORDS]\n",
    "counter = Counter(remove_stopwords(tokens))"
   ]
  },
  {
   "cell_type": "code",
   "execution_count": 0,
   "metadata": {
    "colab": {},
    "colab_type": "code",
    "collapsed": true,
    "id": "kllfoUtQeDfY"
   },
   "outputs": [],
   "source": [
    "# creating a data frame for the most common words without stop words in the tweets for plotting\n",
    "word_freq = pd.DataFrame.from_records([x for x in counter.most_common(30) if len(x[0])> 2], columns = ['tokens', 'count'])"
   ]
  },
  {
   "cell_type": "code",
   "execution_count": 97,
   "metadata": {
    "colab": {
     "base_uri": "https://localhost:8080/",
     "height": 346
    },
    "colab_type": "code",
    "collapsed": false,
    "id": "AhL3O2HDh1Q1",
    "outputId": "dcbbf60b-4ec8-4fa6-a8bb-0de5f600c608"
   },
   "outputs": [
    {
     "data": {
      "text/plain": [
       "<matplotlib.axes._subplots.AxesSubplot at 0x7f3cabf9dd30>"
      ]
     },
     "execution_count": 97,
     "metadata": {
      "tags": []
     },
     "output_type": "execute_result"
    },
    {
     "data": {
      "image/png": "[encoded data removed]",
      "text/plain": [
       "<Figure size 432x288 with 1 Axes>"
      ]
     },
     "metadata": {
      "tags": []
     },
     "output_type": "display_data"
    }
   ],
   "source": [
    "# frequency distribution of the top 19 most used words in the twitter data\n",
    "word_freq.plot(kind = 'bar', x = 'tokens')"
   ]
  },
  {
   "cell_type": "code",
   "execution_count": 0,
   "metadata": {
    "colab": {},
    "colab_type": "code",
    "collapsed": true,
    "id": "ajplGKwIq7VI"
   },
   "outputs": [],
   "source": [
    "# tokens without stop words and single and double lettered words\n",
    "tokens_nsw = [x for x in remove_stopwords(tokens) if len(x) > 2] "
   ]
  },
  {
   "cell_type": "code",
   "execution_count": 0,
   "metadata": {
    "colab": {},
    "colab_type": "code",
    "collapsed": true,
    "id": "nAagRRtQptXg"
   },
   "outputs": [],
   "source": [
    "\n",
    "bigrams = nltk.bigrams(tokens_nsw)\n",
    "bi_count = Counter(bigrams)"
   ]
  },
  {
   "cell_type": "code",
   "execution_count": 0,
   "metadata": {
    "colab": {},
    "colab_type": "code",
    "collapsed": true,
    "id": "NichenjZs632"
   },
   "outputs": [],
   "source": [
    "bi_count"
   ]
  },
  {
   "cell_type": "code",
   "execution_count": 0,
   "metadata": {
    "colab": {},
    "colab_type": "code",
    "collapsed": true,
    "id": "rIAYxF_esJFQ"
   },
   "outputs": [],
   "source": [
    "# creating a data frame for the most common words without stop words in the tweets for plotting\n",
    "bigram_freq = pd.DataFrame.from_records(bi_count.most_common(20), columns = ['tokens', 'count'])"
   ]
  },
  {
   "cell_type": "code",
   "execution_count": 0,
   "metadata": {
    "colab": {},
    "colab_type": "code",
    "collapsed": true,
    "id": "vDr01feNsiUP"
   },
   "outputs": [],
   "source": [
    "bigram_freq.head()"
   ]
  },
  {
   "cell_type": "code",
   "execution_count": 124,
   "metadata": {
    "colab": {
     "base_uri": "https://localhost:8080/",
     "height": 419
    },
    "colab_type": "code",
    "collapsed": false,
    "id": "1gmM-mXkqBex",
    "outputId": "675b3d4d-8dc2-4015-8b25-12efe1406fbe"
   },
   "outputs": [
    {
     "data": {
      "text/plain": [
       "<matplotlib.axes._subplots.AxesSubplot at 0x7f3cea93b2e8>"
      ]
     },
     "execution_count": 124,
     "metadata": {
      "tags": []
     },
     "output_type": "execute_result"
    },
    {
     "data": {
      "image/png": "[encoded data removed]",
      "text/plain": [
       "<Figure size 432x288 with 1 Axes>"
      ]
     },
     "metadata": {
      "tags": []
     },
     "output_type": "display_data"
    }
   ],
   "source": [
    "bigram_freq.plot(kind = 'bar', x = 'tokens')\n"
   ]
  }
 ],
 "metadata": {
  "colab": {
   "collapsed_sections": [],
   "name": "text_cleaning_and_exploration_twitterdata.ipynb",
   "provenance": []
  },
  "kernelspec": {
   "display_name": "Python 3",
   "language": "python",
   "name": "python3"
  },
  "language_info": {
   "codemirror_mode": {
    "name": "ipython",
    "version": 2
   },
   "file_extension": ".py",
   "mimetype": "text/x-python",
   "name": "python",
   "nbconvert_exporter": "python",
   "pygments_lexer": "ipython2",
   "version": "2.7.13"
  }
 },
 "nbformat": 4,
 "nbformat_minor": 0
}
